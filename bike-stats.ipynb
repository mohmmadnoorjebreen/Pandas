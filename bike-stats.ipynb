{
 "cells": [
  {
   "cell_type": "markdown",
   "source": [
    "## What is the average trip duration for a borrowed bicycle?"
   ],
   "metadata": {}
  },
  {
   "cell_type": "code",
   "execution_count": 2,
   "source": [
    "import pandas as pd\n",
    "import numpy as np\n"
   ],
   "outputs": [],
   "metadata": {}
  },
  {
   "cell_type": "code",
   "execution_count": null,
   "source": [
    "df = pd.read_csv('./trip.csv', error_bad_lines=False)\n"
   ],
   "outputs": [],
   "metadata": {}
  },
  {
   "cell_type": "code",
   "execution_count": 4,
   "source": [
    "avg_trip_duration  = df['tripduration'].mean()\n",
    "avg_trip_duration"
   ],
   "outputs": [
    {
     "output_type": "execute_result",
     "data": {
      "text/plain": [
       "1178.2956753399776"
      ]
     },
     "metadata": {},
     "execution_count": 4
    }
   ],
   "metadata": {}
  },
  {
   "cell_type": "markdown",
   "source": [
    "## What’s the most common age of a bicycle-sharer?"
   ],
   "metadata": {}
  },
  {
   "cell_type": "code",
   "execution_count": 20,
   "source": [
    "birthyear = df['birthyear'].mode()\n",
    "most_common_age =2020 - birthyear\n",
    "most_common_age"
   ],
   "outputs": [
    {
     "output_type": "execute_result",
     "data": {
      "text/plain": [
       "33.0"
      ]
     },
     "metadata": {},
     "execution_count": 20
    }
   ],
   "metadata": {}
  },
  {
   "cell_type": "markdown",
   "source": [
    "## Given all the weather data here, find the average precipitation per month, and the median precipitation"
   ],
   "metadata": {}
  },
  {
   "cell_type": "code",
   "execution_count": null,
   "source": [
    "dfw = pd.read_csv('./weather.csv')\n",
    "dfw"
   ],
   "outputs": [],
   "metadata": {}
  },
  {
   "cell_type": "markdown",
   "source": [
    "median precipitation"
   ],
   "metadata": {}
  },
  {
   "cell_type": "code",
   "execution_count": 7,
   "source": [
    "median_precipitation = dfw['Precipitation_In'].median()\n",
    "median_precipitation"
   ],
   "outputs": [
    {
     "output_type": "execute_result",
     "data": {
      "text/plain": [
       "0.0"
      ]
     },
     "metadata": {},
     "execution_count": 7
    }
   ],
   "metadata": {}
  },
  {
   "cell_type": "markdown",
   "source": [
    "average precipitation per month"
   ],
   "metadata": {}
  },
  {
   "cell_type": "code",
   "execution_count": 30,
   "source": [
    "dfw['Date'] = pd.to_datetime(dfw['Date'])\n",
    "dfw['months'] = dfw['Date'].apply(lambda x:x.strftime('%B'))\n",
    "average_precipitation_per_month = dfw.groupby('months')['Precipitation_In'].mean()\n",
    "average_precipitation_per_month"
   ],
   "outputs": [
    {
     "output_type": "execute_result",
     "data": {
      "text/plain": [
       "months\n",
       "April        0.051333\n",
       "August       0.018226\n",
       "December     0.236290\n",
       "February     0.168421\n",
       "January      0.143548\n",
       "July         0.012097\n",
       "June         0.030500\n",
       "March        0.156935\n",
       "May          0.012419\n",
       "November     0.187833\n",
       "October      0.189000\n",
       "September    0.041000\n",
       "Name: Precipitation_In, dtype: float64"
      ]
     },
     "metadata": {},
     "execution_count": 30
    }
   ],
   "metadata": {}
  },
  {
   "cell_type": "markdown",
   "source": [
    "## What’s the average number of bikes at a given bike station?\n"
   ],
   "metadata": {}
  },
  {
   "cell_type": "code",
   "execution_count": 9,
   "source": [
    "dfs= pd.read_csv('./station.csv')\n",
    "bikes = dfs['install_dockcount'].mean()\n",
    "bikes"
   ],
   "outputs": [
    {
     "output_type": "execute_result",
     "data": {
      "text/plain": [
       "17.586206896551722"
      ]
     },
     "metadata": {},
     "execution_count": 9
    }
   ],
   "metadata": {}
  },
  {
   "cell_type": "markdown",
   "source": [
    "## When a bike station is modified, is it more likely that it’ll lose bikes or gain bikes? How do you know?\n"
   ],
   "metadata": {}
  },
  {
   "cell_type": "code",
   "execution_count": 33,
   "source": [
    "dfs['install_dockcount - current_dockcount'] = dfs['install_dockcount'] - dfs['current_dockcount']\n",
    "is_gain=dfs['install_dockcount - current_dockcount'].sum()\n",
    "if is_gain > 0:\n",
    "    is_gain = True\n",
    "else:\n",
    "    is_gain = False\n",
    "is_gain        "
   ],
   "outputs": [
    {
     "output_type": "execute_result",
     "data": {
      "text/plain": [
       "True"
      ]
     },
     "metadata": {},
     "execution_count": 33
    }
   ],
   "metadata": {}
  },
  {
   "cell_type": "markdown",
   "source": [
    "### The result is a positive number, so it tends to lose\n"
   ],
   "metadata": {}
  },
  {
   "cell_type": "markdown",
   "source": [
    "# 3 more questions "
   ],
   "metadata": {}
  },
  {
   "cell_type": "markdown",
   "source": [
    "## What’s the most common gender of a bicycle-sharer?"
   ],
   "metadata": {}
  },
  {
   "cell_type": "code",
   "execution_count": 11,
   "source": [
    "gender = df['gender'].mode()\n",
    "gender"
   ],
   "outputs": [
    {
     "output_type": "execute_result",
     "data": {
      "text/plain": [
       "0    Male\n",
       "dtype: object"
      ]
     },
     "metadata": {},
     "execution_count": 11
    }
   ],
   "metadata": {}
  },
  {
   "cell_type": "markdown",
   "source": [
    "## What is the Max Temperature?"
   ],
   "metadata": {}
  },
  {
   "cell_type": "code",
   "execution_count": 12,
   "source": [
    "Max_Temperature_F = dfw['Max_Temperature_F'].max()\n",
    "Max_Temperature_F"
   ],
   "outputs": [
    {
     "output_type": "execute_result",
     "data": {
      "text/plain": [
       "98"
      ]
     },
     "metadata": {},
     "execution_count": 12
    }
   ],
   "metadata": {}
  },
  {
   "cell_type": "markdown",
   "source": [
    "## The highest number of bikes found at the station at a given time"
   ],
   "metadata": {}
  },
  {
   "cell_type": "code",
   "execution_count": 13,
   "source": [
    "highest_bikes = dfs['install_dockcount'].max()\n",
    "highest_bikes"
   ],
   "outputs": [
    {
     "output_type": "execute_result",
     "data": {
      "text/plain": [
       "30"
      ]
     },
     "metadata": {},
     "execution_count": 13
    }
   ],
   "metadata": {}
  },
  {
   "cell_type": "markdown",
   "source": [
    "# tests"
   ],
   "metadata": {}
  },
  {
   "cell_type": "code",
   "execution_count": 38,
   "source": [
    "def test():\n",
    "    def assert_equal(actual,expected):\n",
    "        assert actual == expected, f\"Expected {expected} but got {actual}\"\n",
    "        \n",
    "    assert_equal(avg_trip_duration, 1178.2956753399776)\n",
    "    assert_equal(most_common_age.item(), 33.0)\n",
    "    assert_equal(median_precipitation, 0.0)\n",
    "    assert_equal(average_precipitation_per_month.iloc[1], 0.0182258064516129)\n",
    "    assert_equal(bikes, 17.586206896551722)\n",
    "    assert_equal(is_gain, True)\n",
    "    assert_equal(gender.item(), 'Male')\n",
    "    assert_equal(Max_Temperature_F, 98)\n",
    "    assert_equal(highest_bikes, 30)\n",
    "\n",
    "    \n",
    "    \n",
    "    print(\"Success!!!\")\n",
    "test()       "
   ],
   "outputs": [
    {
     "output_type": "stream",
     "name": "stdout",
     "text": [
      "Success!!!\n"
     ]
    }
   ],
   "metadata": {}
  }
 ],
 "metadata": {
  "orig_nbformat": 4,
  "language_info": {
   "name": "python",
   "version": "3.9.6",
   "mimetype": "text/x-python",
   "codemirror_mode": {
    "name": "ipython",
    "version": 3
   },
   "pygments_lexer": "ipython3",
   "nbconvert_exporter": "python",
   "file_extension": ".py"
  },
  "kernelspec": {
   "name": "python3",
   "display_name": "Python 3.9.6 64-bit ('.venv': poetry)"
  },
  "interpreter": {
   "hash": "876a01b5f15d128815c1e27967d49ec36933babc22c7d9e43fafddbb031627d4"
  }
 },
 "nbformat": 4,
 "nbformat_minor": 2
}